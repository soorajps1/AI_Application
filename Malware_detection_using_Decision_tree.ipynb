{
 "cells": [
  {
   "cell_type": "code",
   "execution_count": 6,
   "metadata": {
    "id": "x4l4gmbspjtl"
   },
   "outputs": [],
   "source": [
    "import pandas as pd\n",
    "import numpy as np\n",
    "import matplotlib.pyplot as plt\n",
    "import seaborn as sns"
   ]
  },
  {
   "cell_type": "code",
   "execution_count": 7,
   "metadata": {
    "id": "0KDWNv5sqVLR"
   },
   "outputs": [],
   "source": [
    "data = pd.read_csv(r\"D:\\Dataset\\Malware.csv\")"
   ]
  },
  {
   "cell_type": "code",
   "execution_count": 8,
   "metadata": {
    "colab": {
     "base_uri": "https://localhost:8080/",
     "height": 443
    },
    "id": "E6Ppr-9oqaUU",
    "outputId": "924a8304-2115-4fb6-bc1f-41a7dfb5dee3"
   },
   "outputs": [
    {
     "data": {
      "text/html": [
       "<div>\n",
       "<style scoped>\n",
       "    .dataframe tbody tr th:only-of-type {\n",
       "        vertical-align: middle;\n",
       "    }\n",
       "\n",
       "    .dataframe tbody tr th {\n",
       "        vertical-align: top;\n",
       "    }\n",
       "\n",
       "    .dataframe thead th {\n",
       "        text-align: right;\n",
       "    }\n",
       "</style>\n",
       "<table border=\"1\" class=\"dataframe\">\n",
       "  <thead>\n",
       "    <tr style=\"text-align: right;\">\n",
       "      <th></th>\n",
       "      <th>labels</th>\n",
       "      <th>00</th>\n",
       "      <th>0000</th>\n",
       "      <th>0000000</th>\n",
       "      <th>000000000046</th>\n",
       "      <th>00021401</th>\n",
       "      <th>00c04fc295ee</th>\n",
       "      <th>01</th>\n",
       "      <th>0156250</th>\n",
       "      <th>02</th>\n",
       "      <th>...</th>\n",
       "      <th>windowsruntime</th>\n",
       "      <th>winevt</th>\n",
       "      <th>wmiprvse</th>\n",
       "      <th>working</th>\n",
       "      <th>wow6432node</th>\n",
       "      <th>write</th>\n",
       "      <th>writefile</th>\n",
       "      <th>xaml</th>\n",
       "      <th>xls</th>\n",
       "      <th>zip</th>\n",
       "    </tr>\n",
       "  </thead>\n",
       "  <tbody>\n",
       "    <tr>\n",
       "      <th>0</th>\n",
       "      <td>1</td>\n",
       "      <td>11</td>\n",
       "      <td>0</td>\n",
       "      <td>5</td>\n",
       "      <td>0</td>\n",
       "      <td>0</td>\n",
       "      <td>0</td>\n",
       "      <td>1</td>\n",
       "      <td>6</td>\n",
       "      <td>0</td>\n",
       "      <td>...</td>\n",
       "      <td>0</td>\n",
       "      <td>0</td>\n",
       "      <td>0</td>\n",
       "      <td>36</td>\n",
       "      <td>0</td>\n",
       "      <td>0</td>\n",
       "      <td>0</td>\n",
       "      <td>0</td>\n",
       "      <td>0</td>\n",
       "      <td>0</td>\n",
       "    </tr>\n",
       "    <tr>\n",
       "      <th>1</th>\n",
       "      <td>1</td>\n",
       "      <td>0</td>\n",
       "      <td>0</td>\n",
       "      <td>1</td>\n",
       "      <td>0</td>\n",
       "      <td>0</td>\n",
       "      <td>0</td>\n",
       "      <td>0</td>\n",
       "      <td>0</td>\n",
       "      <td>0</td>\n",
       "      <td>...</td>\n",
       "      <td>0</td>\n",
       "      <td>0</td>\n",
       "      <td>0</td>\n",
       "      <td>19</td>\n",
       "      <td>0</td>\n",
       "      <td>0</td>\n",
       "      <td>0</td>\n",
       "      <td>0</td>\n",
       "      <td>0</td>\n",
       "      <td>0</td>\n",
       "    </tr>\n",
       "    <tr>\n",
       "      <th>2</th>\n",
       "      <td>1</td>\n",
       "      <td>0</td>\n",
       "      <td>0</td>\n",
       "      <td>0</td>\n",
       "      <td>0</td>\n",
       "      <td>0</td>\n",
       "      <td>0</td>\n",
       "      <td>0</td>\n",
       "      <td>3</td>\n",
       "      <td>0</td>\n",
       "      <td>...</td>\n",
       "      <td>0</td>\n",
       "      <td>0</td>\n",
       "      <td>0</td>\n",
       "      <td>8</td>\n",
       "      <td>0</td>\n",
       "      <td>0</td>\n",
       "      <td>0</td>\n",
       "      <td>0</td>\n",
       "      <td>0</td>\n",
       "      <td>0</td>\n",
       "    </tr>\n",
       "    <tr>\n",
       "      <th>3</th>\n",
       "      <td>1</td>\n",
       "      <td>52</td>\n",
       "      <td>0</td>\n",
       "      <td>2</td>\n",
       "      <td>0</td>\n",
       "      <td>0</td>\n",
       "      <td>0</td>\n",
       "      <td>2</td>\n",
       "      <td>0</td>\n",
       "      <td>6</td>\n",
       "      <td>...</td>\n",
       "      <td>0</td>\n",
       "      <td>0</td>\n",
       "      <td>0</td>\n",
       "      <td>0</td>\n",
       "      <td>0</td>\n",
       "      <td>1</td>\n",
       "      <td>0</td>\n",
       "      <td>0</td>\n",
       "      <td>0</td>\n",
       "      <td>0</td>\n",
       "    </tr>\n",
       "    <tr>\n",
       "      <th>4</th>\n",
       "      <td>1</td>\n",
       "      <td>0</td>\n",
       "      <td>0</td>\n",
       "      <td>0</td>\n",
       "      <td>0</td>\n",
       "      <td>0</td>\n",
       "      <td>0</td>\n",
       "      <td>0</td>\n",
       "      <td>0</td>\n",
       "      <td>0</td>\n",
       "      <td>...</td>\n",
       "      <td>0</td>\n",
       "      <td>0</td>\n",
       "      <td>0</td>\n",
       "      <td>0</td>\n",
       "      <td>0</td>\n",
       "      <td>0</td>\n",
       "      <td>0</td>\n",
       "      <td>0</td>\n",
       "      <td>0</td>\n",
       "      <td>0</td>\n",
       "    </tr>\n",
       "    <tr>\n",
       "      <th>...</th>\n",
       "      <td>...</td>\n",
       "      <td>...</td>\n",
       "      <td>...</td>\n",
       "      <td>...</td>\n",
       "      <td>...</td>\n",
       "      <td>...</td>\n",
       "      <td>...</td>\n",
       "      <td>...</td>\n",
       "      <td>...</td>\n",
       "      <td>...</td>\n",
       "      <td>...</td>\n",
       "      <td>...</td>\n",
       "      <td>...</td>\n",
       "      <td>...</td>\n",
       "      <td>...</td>\n",
       "      <td>...</td>\n",
       "      <td>...</td>\n",
       "      <td>...</td>\n",
       "      <td>...</td>\n",
       "      <td>...</td>\n",
       "      <td>...</td>\n",
       "    </tr>\n",
       "    <tr>\n",
       "      <th>34366</th>\n",
       "      <td>-1</td>\n",
       "      <td>0</td>\n",
       "      <td>0</td>\n",
       "      <td>7</td>\n",
       "      <td>0</td>\n",
       "      <td>0</td>\n",
       "      <td>0</td>\n",
       "      <td>0</td>\n",
       "      <td>5</td>\n",
       "      <td>0</td>\n",
       "      <td>...</td>\n",
       "      <td>0</td>\n",
       "      <td>0</td>\n",
       "      <td>0</td>\n",
       "      <td>31</td>\n",
       "      <td>0</td>\n",
       "      <td>0</td>\n",
       "      <td>0</td>\n",
       "      <td>0</td>\n",
       "      <td>0</td>\n",
       "      <td>0</td>\n",
       "    </tr>\n",
       "    <tr>\n",
       "      <th>34367</th>\n",
       "      <td>-1</td>\n",
       "      <td>0</td>\n",
       "      <td>0</td>\n",
       "      <td>2</td>\n",
       "      <td>0</td>\n",
       "      <td>0</td>\n",
       "      <td>0</td>\n",
       "      <td>0</td>\n",
       "      <td>3</td>\n",
       "      <td>0</td>\n",
       "      <td>...</td>\n",
       "      <td>0</td>\n",
       "      <td>0</td>\n",
       "      <td>1</td>\n",
       "      <td>47</td>\n",
       "      <td>0</td>\n",
       "      <td>0</td>\n",
       "      <td>1</td>\n",
       "      <td>0</td>\n",
       "      <td>0</td>\n",
       "      <td>0</td>\n",
       "    </tr>\n",
       "    <tr>\n",
       "      <th>34368</th>\n",
       "      <td>-1</td>\n",
       "      <td>0</td>\n",
       "      <td>0</td>\n",
       "      <td>9</td>\n",
       "      <td>0</td>\n",
       "      <td>0</td>\n",
       "      <td>0</td>\n",
       "      <td>0</td>\n",
       "      <td>7</td>\n",
       "      <td>0</td>\n",
       "      <td>...</td>\n",
       "      <td>0</td>\n",
       "      <td>0</td>\n",
       "      <td>0</td>\n",
       "      <td>47</td>\n",
       "      <td>0</td>\n",
       "      <td>0</td>\n",
       "      <td>2</td>\n",
       "      <td>0</td>\n",
       "      <td>0</td>\n",
       "      <td>0</td>\n",
       "    </tr>\n",
       "    <tr>\n",
       "      <th>34369</th>\n",
       "      <td>-1</td>\n",
       "      <td>0</td>\n",
       "      <td>0</td>\n",
       "      <td>5</td>\n",
       "      <td>0</td>\n",
       "      <td>0</td>\n",
       "      <td>0</td>\n",
       "      <td>0</td>\n",
       "      <td>2</td>\n",
       "      <td>0</td>\n",
       "      <td>...</td>\n",
       "      <td>0</td>\n",
       "      <td>0</td>\n",
       "      <td>1</td>\n",
       "      <td>47</td>\n",
       "      <td>0</td>\n",
       "      <td>0</td>\n",
       "      <td>0</td>\n",
       "      <td>0</td>\n",
       "      <td>0</td>\n",
       "      <td>0</td>\n",
       "    </tr>\n",
       "    <tr>\n",
       "      <th>34370</th>\n",
       "      <td>-1</td>\n",
       "      <td>0</td>\n",
       "      <td>0</td>\n",
       "      <td>4</td>\n",
       "      <td>0</td>\n",
       "      <td>0</td>\n",
       "      <td>0</td>\n",
       "      <td>0</td>\n",
       "      <td>7</td>\n",
       "      <td>0</td>\n",
       "      <td>...</td>\n",
       "      <td>0</td>\n",
       "      <td>0</td>\n",
       "      <td>0</td>\n",
       "      <td>50</td>\n",
       "      <td>0</td>\n",
       "      <td>0</td>\n",
       "      <td>0</td>\n",
       "      <td>0</td>\n",
       "      <td>0</td>\n",
       "      <td>0</td>\n",
       "    </tr>\n",
       "  </tbody>\n",
       "</table>\n",
       "<p>34371 rows × 501 columns</p>\n",
       "</div>"
      ],
      "text/plain": [
       "       labels  00  0000  0000000  000000000046  00021401  00c04fc295ee  01  \\\n",
       "0           1  11     0        5             0         0             0   1   \n",
       "1           1   0     0        1             0         0             0   0   \n",
       "2           1   0     0        0             0         0             0   0   \n",
       "3           1  52     0        2             0         0             0   2   \n",
       "4           1   0     0        0             0         0             0   0   \n",
       "...       ...  ..   ...      ...           ...       ...           ...  ..   \n",
       "34366      -1   0     0        7             0         0             0   0   \n",
       "34367      -1   0     0        2             0         0             0   0   \n",
       "34368      -1   0     0        9             0         0             0   0   \n",
       "34369      -1   0     0        5             0         0             0   0   \n",
       "34370      -1   0     0        4             0         0             0   0   \n",
       "\n",
       "       0156250  02  ...  windowsruntime  winevt  wmiprvse  working  \\\n",
       "0            6   0  ...               0       0         0       36   \n",
       "1            0   0  ...               0       0         0       19   \n",
       "2            3   0  ...               0       0         0        8   \n",
       "3            0   6  ...               0       0         0        0   \n",
       "4            0   0  ...               0       0         0        0   \n",
       "...        ...  ..  ...             ...     ...       ...      ...   \n",
       "34366        5   0  ...               0       0         0       31   \n",
       "34367        3   0  ...               0       0         1       47   \n",
       "34368        7   0  ...               0       0         0       47   \n",
       "34369        2   0  ...               0       0         1       47   \n",
       "34370        7   0  ...               0       0         0       50   \n",
       "\n",
       "       wow6432node  write  writefile  xaml  xls  zip  \n",
       "0                0      0          0     0    0    0  \n",
       "1                0      0          0     0    0    0  \n",
       "2                0      0          0     0    0    0  \n",
       "3                0      1          0     0    0    0  \n",
       "4                0      0          0     0    0    0  \n",
       "...            ...    ...        ...   ...  ...  ...  \n",
       "34366            0      0          0     0    0    0  \n",
       "34367            0      0          1     0    0    0  \n",
       "34368            0      0          2     0    0    0  \n",
       "34369            0      0          0     0    0    0  \n",
       "34370            0      0          0     0    0    0  \n",
       "\n",
       "[34371 rows x 501 columns]"
      ]
     },
     "execution_count": 8,
     "metadata": {},
     "output_type": "execute_result"
    }
   ],
   "source": [
    "data"
   ]
  },
  {
   "cell_type": "code",
   "execution_count": 9,
   "metadata": {
    "colab": {
     "base_uri": "https://localhost:8080/"
    },
    "id": "vdkoKXRYqbhL",
    "outputId": "d9a128b2-1062-4f8a-c22b-6a54d000ac51"
   },
   "outputs": [
    {
     "name": "stdout",
     "output_type": "stream",
     "text": [
      "labels,00,0000,0000000,000000000046,00021401,00c04fc295ee,01,0156250,02,03,04,05,06,07,08,08002b30309d,09,096,0_x64__8wekyb3d8bbwe,0e5aae11,0x0,0x1,10,1000,1004,101,1012,1036,1069,11,1148,11cf,11d0,11d1,12,128,13,14,144,1440,1496,15,16,17,17763,17763_neutral_neutral_cw5n1h2txyewy,18,1836,189871a37d4dc8849f801e42ea1b8d09167cba5fd9d0b2dadafd002ff99e33ee,19,192,1940,20,2018,2019,2022,2040,20d04fe0,21,2103,22,2269080069,23,2372,24,25,26,2684,27,28,2828,288,29,30,3020,30319_32,3036,3052,3064,307355e4b60e,3084,31,3156,3168,319b4a97ea03,32,320,3240,328,33,3364,34,3461203602,35,36,37,3780,38,384,3876,3884,39,3908,3aea,40,4048,4096304019,41,42,424c,4284,43,44,440,444553540000,45,46,467a,47,4700,48,4804,4888,49,4951,4b01,4c5b,4dbd,50,51,5108,511,5180,52,53,536,54,5420,5476,55,56,57,576,58,588,59,608,68,696,707907bf,71eb,720,73,756,768,78,7fe99a87c641,7zfm,7zg,816,840,90,92703aca08af,9365,944,956b,9fe2c6153fcb104774c237aa7d9592674bc5f936e9b503a0d243cf0088fcd161,a175,a2d8,a475,ab00,access,activatableclasses,activatableclassid,alert,allappsdesktopapplication,allfilesystemobjects,allocationsize,allowed,allowedenumeration,app,appcore,appdata,appid,application,applications,appmodel,apprepository,assembly,attributes,automaticdestinations,b029,b4bfcc3a,backgroundtaskhost,backgroundtasks,base,basebrd,batch2,buffer,bytes,c000,c1bac967,c66de400274e,cached,calculator,capabilities,catroot,certificates,cff,changetime,chrmstp,chrome,classes,closefile,clsid,command,commandstore,common,conhost,consent,contextmenuhandlers,contractid,control,cortana,cortana_1,cortana_cw5n1h2txyewy,cortanaui,cpc,createfile,createfilemapping,creationtime,cryptographic,cryptography,csrss,ctfmon,current,currentcontrolset,currentversion,customlocale,customproperties,d3162b92,dat,data,db,db2c,default,defaults,delete,deletepending,desired,desktop,detect,directory,disallowed,disposition,dll,dllhost,drivers,dwm,easy,efb7,en,encodingtype,endoffile,enumerate,exe,execute,exefile,explorer,extendedlocale,extensions,f8c9,fakenet,false,fast,fastio_release_for_section_synchronization,file,fileattributes,fileexts,files,flags,folder,folderdescriptions,folders,generic,globalization,google,gothic,granted,handletags,hkcr,hkcu,hklm,hku,ieuser,im_1,image,impliedselectionmodel,index,information,initpropertybag,inprocserver32,input,instance,interface,interfaces,io,irp_mj_close,is_0,kernel,keys,keysethandletagsinformation,keysetinformationclass,languageoverlay,lastaccesstime,lastwritetime,launcher,launchworkfolderscontrol,length,list,lnk,loc_0409,local,locales,localstate,locked,low,malware,manager,maximum,mca,mft,microsoft,mountpoints2,ms,mspaint,mui,mycomputer,namespace,nativeimages_v4,net,ni,nls,non,normal,notepad,nt,numberoflinks,objects,offlinefileslaunchsynccenter,offset,oid,oleaut32,open,opened,openresult,openwith,openwithprogids,options,overflow,overlaypackages,package,packageid,packagerepository,packages,page_execute,page_nocache,pagefile,pageprotection,paging,pak,parameters,pm,png,point,policies,policymanager,priority,private,proc_1,process,procmon64,profilelist,profiling,program,programdata,propertybag,provider,publishers,puppet,query,querybasicinformationfile,queryopen,querysecurityfile,querystandardinformationfile,radare2,radare2d,read,readers,readfile,redirectionmap,reg_binary,reg_dword,reg_expand_sz,reg_sz,regclosekey,regcreatekey,regenumkey,regenumvalue,registry,regopenkey,regquerykey,regqueryvalue,regsetinfokey,removeproperties,reparse,repository,resources,roaming,root,runas,runasuser,runtimebroker,search,searchfilterhost,searchindexer,searchprotocolhost,searchui,seconds,server,services,session,sessioninfo,set,settings,sharemode,shell,shellex,shellfolder,sihost,size,software,start,staterepository,stateseparation,storage,strong,sub,subkeys,sublime,success,svchost,synchronize,synchronous,synctype,synctypecreatesection,synctypeother,sys,system32,systemcertificates,systemfileassociations,systemroot,syswow64,taskhostw,tcpip,terminal,text,textinput,thread,time,tools,ttc,ttf,type,tzres,ui,unknown,updateencryptionsettingswork,user,userenv,users,v4,value,values,vboxservice,volume,wbem,windows,windowsapps,windowscalculator_10,windowsruntime,winevt,wmiprvse,working,wow6432node,write,writefile,xaml,xls,zip,"
     ]
    }
   ],
   "source": [
    "for i in data.columns:\n",
    "  print(i, end = \",\")"
   ]
  },
  {
   "cell_type": "code",
   "execution_count": 10,
   "metadata": {
    "colab": {
     "base_uri": "https://localhost:8080/"
    },
    "id": "OWddJxGGvDnH",
    "outputId": "72a3f503-ef58-45d8-e889-cfb30a9f5099"
   },
   "outputs": [
    {
     "data": {
      "text/plain": [
       "16923"
      ]
     },
     "execution_count": 10,
     "metadata": {},
     "output_type": "execute_result"
    }
   ],
   "source": [
    "len(data[data['labels'] == -1])"
   ]
  },
  {
   "cell_type": "code",
   "execution_count": 11,
   "metadata": {
    "colab": {
     "base_uri": "https://localhost:8080/"
    },
    "id": "hqHrxUu7qwL7",
    "outputId": "276eedcd-4921-4bfa-e323-74cf3556f210"
   },
   "outputs": [
    {
     "data": {
      "text/plain": [
       "labels          int64\n",
       "00              int64\n",
       "0000            int64\n",
       "0000000         int64\n",
       "000000000046    int64\n",
       "                ...  \n",
       "write           int64\n",
       "writefile       int64\n",
       "xaml            int64\n",
       "xls             int64\n",
       "zip             int64\n",
       "Length: 501, dtype: object"
      ]
     },
     "execution_count": 11,
     "metadata": {},
     "output_type": "execute_result"
    }
   ],
   "source": [
    "data.dtypes"
   ]
  },
  {
   "cell_type": "code",
   "execution_count": 12,
   "metadata": {
    "id": "wd9bRamYrRmL"
   },
   "outputs": [],
   "source": [
    "X = data.iloc[:,1:501].values\n",
    "y = data.iloc[:,0].values"
   ]
  },
  {
   "cell_type": "code",
   "execution_count": 13,
   "metadata": {
    "id": "WIBLB4Bsrh87"
   },
   "outputs": [],
   "source": [
    "from sklearn.model_selection import train_test_split\n",
    "X_train, X_test, y_train, y_test = train_test_split(X,y, random_state = 100, test_size= 0.3)"
   ]
  },
  {
   "cell_type": "code",
   "execution_count": 14,
   "metadata": {
    "id": "18sYCSW7vxuK"
   },
   "outputs": [],
   "source": [
    "scores = []"
   ]
  },
  {
   "cell_type": "code",
   "execution_count": 15,
   "metadata": {
    "id": "zwSc_22Qv1gm"
   },
   "outputs": [],
   "source": [
    "from sklearn.tree import DecisionTreeClassifier\n",
    "Treemodel = DecisionTreeClassifier(random_state = 42)"
   ]
  },
  {
   "cell_type": "code",
   "execution_count": 16,
   "metadata": {
    "id": "sxUxhE60v4Ah"
   },
   "outputs": [],
   "source": [
    "tree = Treemodel.fit(X_train, y_train)"
   ]
  },
  {
   "cell_type": "code",
   "execution_count": 17,
   "metadata": {
    "colab": {
     "base_uri": "https://localhost:8080/",
     "height": 363
    },
    "id": "eVhNww6ov6k4",
    "outputId": "1278556c-0b24-4df8-cd03-06664d34cf8b"
   },
   "outputs": [
    {
     "data": {
      "text/html": [
       "<div>\n",
       "<style scoped>\n",
       "    .dataframe tbody tr th:only-of-type {\n",
       "        vertical-align: middle;\n",
       "    }\n",
       "\n",
       "    .dataframe tbody tr th {\n",
       "        vertical-align: top;\n",
       "    }\n",
       "\n",
       "    .dataframe thead th {\n",
       "        text-align: right;\n",
       "    }\n",
       "</style>\n",
       "<table border=\"1\" class=\"dataframe\">\n",
       "  <thead>\n",
       "    <tr style=\"text-align: right;\">\n",
       "      <th></th>\n",
       "      <th>y_test</th>\n",
       "      <th>y_pred</th>\n",
       "    </tr>\n",
       "  </thead>\n",
       "  <tbody>\n",
       "    <tr>\n",
       "      <th>0</th>\n",
       "      <td>-1</td>\n",
       "      <td>-1</td>\n",
       "    </tr>\n",
       "    <tr>\n",
       "      <th>1</th>\n",
       "      <td>-1</td>\n",
       "      <td>-1</td>\n",
       "    </tr>\n",
       "    <tr>\n",
       "      <th>2</th>\n",
       "      <td>1</td>\n",
       "      <td>1</td>\n",
       "    </tr>\n",
       "    <tr>\n",
       "      <th>3</th>\n",
       "      <td>1</td>\n",
       "      <td>1</td>\n",
       "    </tr>\n",
       "    <tr>\n",
       "      <th>4</th>\n",
       "      <td>-1</td>\n",
       "      <td>-1</td>\n",
       "    </tr>\n",
       "    <tr>\n",
       "      <th>5</th>\n",
       "      <td>1</td>\n",
       "      <td>1</td>\n",
       "    </tr>\n",
       "    <tr>\n",
       "      <th>6</th>\n",
       "      <td>-1</td>\n",
       "      <td>-1</td>\n",
       "    </tr>\n",
       "    <tr>\n",
       "      <th>7</th>\n",
       "      <td>1</td>\n",
       "      <td>1</td>\n",
       "    </tr>\n",
       "    <tr>\n",
       "      <th>8</th>\n",
       "      <td>1</td>\n",
       "      <td>1</td>\n",
       "    </tr>\n",
       "    <tr>\n",
       "      <th>9</th>\n",
       "      <td>-1</td>\n",
       "      <td>-1</td>\n",
       "    </tr>\n",
       "  </tbody>\n",
       "</table>\n",
       "</div>"
      ],
      "text/plain": [
       "   y_test  y_pred\n",
       "0      -1      -1\n",
       "1      -1      -1\n",
       "2       1       1\n",
       "3       1       1\n",
       "4      -1      -1\n",
       "5       1       1\n",
       "6      -1      -1\n",
       "7       1       1\n",
       "8       1       1\n",
       "9      -1      -1"
      ]
     },
     "execution_count": 17,
     "metadata": {},
     "output_type": "execute_result"
    }
   ],
   "source": [
    "# predicting Values\n",
    "y_pred = tree.predict(X_test)\n",
    "test_comparison = pd.DataFrame({'y_test': y_test, 'y_pred': y_pred})\n",
    "test_comparison.head(10)"
   ]
  },
  {
   "cell_type": "code",
   "execution_count": 18,
   "metadata": {
    "colab": {
     "base_uri": "https://localhost:8080/"
    },
    "id": "lm5gZcJMv-Qf",
    "outputId": "5d442b08-2515-4e77-e97e-55e82620f3b6"
   },
   "outputs": [
    {
     "data": {
      "text/plain": [
       "array([[5005,    8],\n",
       "       [   9, 5290]], dtype=int64)"
      ]
     },
     "execution_count": 18,
     "metadata": {},
     "output_type": "execute_result"
    }
   ],
   "source": [
    "from sklearn.metrics import confusion_matrix\n",
    "confusion_matrix(y_test, y_pred)"
   ]
  },
  {
   "cell_type": "code",
   "execution_count": 19,
   "metadata": {
    "colab": {
     "base_uri": "https://localhost:8080/"
    },
    "id": "pe4Zln-GwBel",
    "outputId": "4d2393d0-820f-48af-b9a6-65eae6be8b73"
   },
   "outputs": [
    {
     "name": "stdout",
     "output_type": "stream",
     "text": [
      "Classification Report               precision    recall  f1-score   support\n",
      "\n",
      "          -1       1.00      1.00      1.00      5013\n",
      "           1       1.00      1.00      1.00      5299\n",
      "\n",
      "    accuracy                           1.00     10312\n",
      "   macro avg       1.00      1.00      1.00     10312\n",
      "weighted avg       1.00      1.00      1.00     10312\n",
      "\n"
     ]
    }
   ],
   "source": [
    "from sklearn.metrics import confusion_matrix, classification_report\n",
    "print('Classification Report', classification_report(y_test, y_pred))"
   ]
  },
  {
   "cell_type": "code",
   "execution_count": null,
   "metadata": {
    "id": "wsXNE-cswjRn"
   },
   "outputs": [],
   "source": []
  }
 ],
 "metadata": {
  "colab": {
   "provenance": []
  },
  "kernelspec": {
   "display_name": "Python 3 (ipykernel)",
   "language": "python",
   "name": "python3"
  },
  "language_info": {
   "codemirror_mode": {
    "name": "ipython",
    "version": 3
   },
   "file_extension": ".py",
   "mimetype": "text/x-python",
   "name": "python",
   "nbconvert_exporter": "python",
   "pygments_lexer": "ipython3",
   "version": "3.11.4"
  }
 },
 "nbformat": 4,
 "nbformat_minor": 1
}
